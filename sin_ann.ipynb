{
 "cells": [
  {
   "cell_type": "code",
   "execution_count": 1,
   "metadata": {},
   "outputs": [],
   "source": [
    "import numpy as np\n",
    "import matplotlib.pyplot as plt"
   ]
  },
  {
   "cell_type": "code",
   "execution_count": 2,
   "metadata": {},
   "outputs": [],
   "source": [
    "x = np.random.randn(10000) # generate x data"
   ]
  },
  {
   "cell_type": "code",
   "execution_count": 3,
   "metadata": {},
   "outputs": [],
   "source": [
    "noise = np.random.normal(0, 0.035, 10000) # generate noise"
   ]
  },
  {
   "cell_type": "code",
   "execution_count": 4,
   "metadata": {},
   "outputs": [],
   "source": [
    "y = np.sin(x) + noise"
   ]
  },
  {
   "cell_type": "code",
   "execution_count": 5,
   "metadata": {},
   "outputs": [
    {
     "data": {
      "image/png": "[encoded data removed]",
      "text/plain": [
       "<Figure size 432x288 with 1 Axes>"
      ]
     },
     "metadata": {
      "needs_background": "light"
     },
     "output_type": "display_data"
    }
   ],
   "source": [
    "true_x = np.linspace(-2,2,1000)\n",
    "true_y = np.sin(true_x)\n",
    "plt.plot(x, y, 'o')\n",
    "plt.plot(true_x, true_y, color='red')\n",
    "plt.show()"
   ]
  },
  {
   "cell_type": "code",
   "execution_count": 6,
   "metadata": {},
   "outputs": [
    {
     "name": "stdout",
     "output_type": "stream",
     "text": [
      "[8972 8997 7939 ... 8686 4543 1700]\n",
      "[2482 6885 2624 ... 7609 3433 6650]\n"
     ]
    }
   ],
   "source": [
    "# to split the data into training and testing set\n",
    "indices = np.random.permutation(x.shape[0]) # to scramble the index\n",
    "train_id, test_id = indices[0:7500], indices[7500:]\n",
    "print(train_id)\n",
    "print(test_id)\n",
    "train_x, test_x = x[train_id], x[test_id]\n",
    "train_y, test_y = y[train_id], y[test_id]"
   ]
  },
  {
   "cell_type": "code",
   "execution_count": 7,
   "metadata": {},
   "outputs": [],
   "source": [
    "import tensorflow as tf\n",
    "from tensorflow.keras.models import Sequential\n",
    "from tensorflow.keras.layers import Dense, InputLayer"
   ]
  },
  {
   "cell_type": "code",
   "execution_count": 8,
   "metadata": {},
   "outputs": [
    {
     "name": "stdout",
     "output_type": "stream",
     "text": [
      "Model: \"sequential\"\n",
      "_________________________________________________________________\n",
      "Layer (type)                 Output Shape              Param #   \n",
      "=================================================================\n",
      "dense (Dense)                (None, 10)                20        \n",
      "_________________________________________________________________\n",
      "dense_1 (Dense)              (None, 100)               1100      \n",
      "_________________________________________________________________\n",
      "dense_2 (Dense)              (None, 1)                 101       \n",
      "=================================================================\n",
      "Total params: 1,221\n",
      "Trainable params: 1,221\n",
      "Non-trainable params: 0\n",
      "_________________________________________________________________\n"
     ]
    },
    {
     "name": "stderr",
     "output_type": "stream",
     "text": [
      "2023-05-23 19:18:20.768633: I tensorflow/core/platform/cpu_feature_guard.cc:142] This TensorFlow binary is optimized with oneAPI Deep Neural Network Library (oneDNN) to use the following CPU instructions in performance-critical operations:  SSE4.1 SSE4.2\n",
      "To enable them in other operations, rebuild TensorFlow with the appropriate compiler flags.\n"
     ]
    }
   ],
   "source": [
    "model = Sequential()\n",
    "model.add(InputLayer(input_shape=(1)))\n",
    "model.add(Dense(10, activation = 'tanh')) # to sum the weight multiply the tanh of the input -> extraxt features from tanh\n",
    "model.add(Dense(100, activation = 'tanh')) # maybe to form a more complex features\n",
    "model.add(Dense(1, activation='linear')) # to sum add the complex features\n",
    "model.summary()"
   ]
  },
  {
   "cell_type": "code",
   "execution_count": 9,
   "metadata": {},
   "outputs": [
    {
     "name": "stderr",
     "output_type": "stream",
     "text": [
      "2023-05-23 19:18:20.954946: I tensorflow/compiler/mlir/mlir_graph_optimization_pass.cc:116] None of the MLIR optimization passes are enabled (registered 2)\n"
     ]
    },
    {
     "name": "stdout",
     "output_type": "stream",
     "text": [
      "Epoch 1/30\n",
      "235/235 [==============================] - 1s 2ms/step - loss: 0.0341 - mean_squared_error: 0.0341 - val_loss: 0.0172 - val_mean_squared_error: 0.0172\n",
      "Epoch 2/30\n",
      "235/235 [==============================] - 0s 527us/step - loss: 0.0158 - mean_squared_error: 0.0158 - val_loss: 0.0142 - val_mean_squared_error: 0.0142\n",
      "Epoch 3/30\n",
      "235/235 [==============================] - 0s 506us/step - loss: 0.0171 - mean_squared_error: 0.0171 - val_loss: 0.0120 - val_mean_squared_error: 0.0120\n",
      "Epoch 4/30\n",
      "235/235 [==============================] - 0s 513us/step - loss: 0.0142 - mean_squared_error: 0.0142 - val_loss: 0.0099 - val_mean_squared_error: 0.0099\n",
      "Epoch 5/30\n",
      "235/235 [==============================] - 0s 530us/step - loss: 0.0116 - mean_squared_error: 0.0116 - val_loss: 0.0084 - val_mean_squared_error: 0.0084\n",
      "Epoch 6/30\n",
      "235/235 [==============================] - 0s 531us/step - loss: 0.0100 - mean_squared_error: 0.0100 - val_loss: 0.0074 - val_mean_squared_error: 0.0074\n",
      "Epoch 7/30\n",
      "235/235 [==============================] - 0s 507us/step - loss: 0.0085 - mean_squared_error: 0.0085 - val_loss: 0.0066 - val_mean_squared_error: 0.0066\n",
      "Epoch 8/30\n",
      "235/235 [==============================] - 0s 512us/step - loss: 0.0090 - mean_squared_error: 0.0090 - val_loss: 0.0061 - val_mean_squared_error: 0.0061\n",
      "Epoch 9/30\n",
      "235/235 [==============================] - 0s 784us/step - loss: 0.0074 - mean_squared_error: 0.0074 - val_loss: 0.0059 - val_mean_squared_error: 0.0059\n",
      "Epoch 10/30\n",
      "235/235 [==============================] - 0s 667us/step - loss: 0.0062 - mean_squared_error: 0.0062 - val_loss: 0.0056 - val_mean_squared_error: 0.0056\n",
      "Epoch 11/30\n",
      "235/235 [==============================] - 0s 555us/step - loss: 0.0084 - mean_squared_error: 0.0084 - val_loss: 0.0054 - val_mean_squared_error: 0.0054\n",
      "Epoch 12/30\n",
      "235/235 [==============================] - 0s 548us/step - loss: 0.0075 - mean_squared_error: 0.0075 - val_loss: 0.0054 - val_mean_squared_error: 0.0054\n",
      "Epoch 13/30\n",
      "235/235 [==============================] - 0s 546us/step - loss: 0.0065 - mean_squared_error: 0.0065 - val_loss: 0.0052 - val_mean_squared_error: 0.0052\n",
      "Epoch 14/30\n",
      "235/235 [==============================] - 0s 535us/step - loss: 0.0061 - mean_squared_error: 0.0061 - val_loss: 0.0052 - val_mean_squared_error: 0.0052\n",
      "Epoch 15/30\n",
      "235/235 [==============================] - 0s 528us/step - loss: 0.0059 - mean_squared_error: 0.0059 - val_loss: 0.0051 - val_mean_squared_error: 0.0051\n",
      "Epoch 16/30\n",
      "235/235 [==============================] - 0s 517us/step - loss: 0.0059 - mean_squared_error: 0.0059 - val_loss: 0.0051 - val_mean_squared_error: 0.0051\n",
      "Epoch 17/30\n",
      "235/235 [==============================] - 0s 515us/step - loss: 0.0051 - mean_squared_error: 0.0051 - val_loss: 0.0049 - val_mean_squared_error: 0.0049\n",
      "Epoch 18/30\n",
      "235/235 [==============================] - 0s 516us/step - loss: 0.0065 - mean_squared_error: 0.0065 - val_loss: 0.0049 - val_mean_squared_error: 0.0049\n",
      "Epoch 19/30\n",
      "235/235 [==============================] - 0s 520us/step - loss: 0.0062 - mean_squared_error: 0.0062 - val_loss: 0.0048 - val_mean_squared_error: 0.0048\n",
      "Epoch 20/30\n",
      "235/235 [==============================] - 0s 513us/step - loss: 0.0055 - mean_squared_error: 0.0055 - val_loss: 0.0048 - val_mean_squared_error: 0.0048\n",
      "Epoch 21/30\n",
      "235/235 [==============================] - 0s 516us/step - loss: 0.0063 - mean_squared_error: 0.0063 - val_loss: 0.0047 - val_mean_squared_error: 0.0047\n",
      "Epoch 22/30\n",
      "235/235 [==============================] - 0s 515us/step - loss: 0.0059 - mean_squared_error: 0.0059 - val_loss: 0.0046 - val_mean_squared_error: 0.0046\n",
      "Epoch 23/30\n",
      "235/235 [==============================] - 0s 532us/step - loss: 0.0057 - mean_squared_error: 0.0057 - val_loss: 0.0046 - val_mean_squared_error: 0.0046\n",
      "Epoch 24/30\n",
      "235/235 [==============================] - 0s 517us/step - loss: 0.0060 - mean_squared_error: 0.0060 - val_loss: 0.0045 - val_mean_squared_error: 0.0045\n",
      "Epoch 25/30\n",
      "235/235 [==============================] - 0s 512us/step - loss: 0.0054 - mean_squared_error: 0.0054 - val_loss: 0.0045 - val_mean_squared_error: 0.0045\n",
      "Epoch 26/30\n",
      "235/235 [==============================] - 0s 515us/step - loss: 0.0052 - mean_squared_error: 0.0052 - val_loss: 0.0044 - val_mean_squared_error: 0.0044\n",
      "Epoch 27/30\n",
      "235/235 [==============================] - 0s 516us/step - loss: 0.0057 - mean_squared_error: 0.0057 - val_loss: 0.0044 - val_mean_squared_error: 0.0044\n",
      "Epoch 28/30\n",
      "235/235 [==============================] - 0s 519us/step - loss: 0.0057 - mean_squared_error: 0.0057 - val_loss: 0.0043 - val_mean_squared_error: 0.0043\n",
      "Epoch 29/30\n",
      "235/235 [==============================] - 0s 511us/step - loss: 0.0067 - mean_squared_error: 0.0067 - val_loss: 0.0043 - val_mean_squared_error: 0.0043\n",
      "Epoch 30/30\n",
      "235/235 [==============================] - 0s 518us/step - loss: 0.0049 - mean_squared_error: 0.0049 - val_loss: 0.0042 - val_mean_squared_error: 0.0042\n"
     ]
    }
   ],
   "source": [
    "model.compile(optimizer=\"SGD\", loss=\"MeanSquaredError\", metrics=[\"MeanSquaredError\"])\n",
    "history = model.fit(train_x, train_y, validation_data = (test_x, test_y), epochs=30)"
   ]
  },
  {
   "cell_type": "code",
   "execution_count": 10,
   "metadata": {},
   "outputs": [
    {
     "data": {
      "image/png": "[encoded data removed]",
      "text/plain": [
       "<Figure size 432x288 with 1 Axes>"
      ]
     },
     "metadata": {
      "needs_background": "light"
     },
     "output_type": "display_data"
    }
   ],
   "source": [
    "predict_x = np.random.randn(100)\n",
    "prediction = model.predict(predict_x)\n",
    "plt.plot(predict_x, prediction, 'o')\n",
    "plt.plot(true_x, true_y, color='red')\n",
    "plt.show()"
   ]
  }
 ],
 "metadata": {
  "kernelspec": {
   "display_name": "Python 3.8.12 ('env')",
   "language": "python",
   "name": "python3"
  },
  "language_info": {
   "codemirror_mode": {
    "name": "ipython",
    "version": 3
   },
   "file_extension": ".py",
   "mimetype": "text/x-python",
   "name": "python",
   "nbconvert_exporter": "python",
   "pygments_lexer": "ipython3",
   "version": "3.8.12"
  },
  "orig_nbformat": 4,
  "vscode": {
   "interpreter": {
    "hash": "271e6ed79b848d4913a76e1a8ebb0533a80d4076ec7b646b82dc2453348e0d4a"
   }
  }
 },
 "nbformat": 4,
 "nbformat_minor": 2
}
